{
 "cells": [
  {
   "cell_type": "markdown",
   "metadata": {},
   "source": [
    "## Predicting Credit Default Using ANN\n",
    "---"
   ]
  },
  {
   "cell_type": "code",
   "execution_count": 1,
   "metadata": {},
   "outputs": [],
   "source": [
    "import matplotlib.pyplot as plt\n",
    "import numpy as np\n",
    "import pandas as pd\n",
    "import seaborn as sns\n",
    "\n",
    "plt.rcParams['figure.figsize'] = (12.0, 7.0)\n",
    "sns.set_theme()"
   ]
  },
  {
   "cell_type": "code",
   "execution_count": 2,
   "metadata": {},
   "outputs": [
    {
     "data": {
      "text/html": [
       "<div>\n",
       "<style scoped>\n",
       "    .dataframe tbody tr th:only-of-type {\n",
       "        vertical-align: middle;\n",
       "    }\n",
       "\n",
       "    .dataframe tbody tr th {\n",
       "        vertical-align: top;\n",
       "    }\n",
       "\n",
       "    .dataframe thead th {\n",
       "        text-align: right;\n",
       "    }\n",
       "</style>\n",
       "<table border=\"1\" class=\"dataframe\">\n",
       "  <thead>\n",
       "    <tr style=\"text-align: right;\">\n",
       "      <th></th>\n",
       "      <th>Unnamed: 0</th>\n",
       "      <th>loan_amnt</th>\n",
       "      <th>funded_amnt</th>\n",
       "      <th>funded_amnt_inv</th>\n",
       "      <th>int_rate</th>\n",
       "      <th>installment</th>\n",
       "      <th>annual_inc</th>\n",
       "      <th>term</th>\n",
       "      <th>grade</th>\n",
       "      <th>emp_length</th>\n",
       "      <th>issue_d</th>\n",
       "      <th>application_type</th>\n",
       "      <th>loan_status</th>\n",
       "    </tr>\n",
       "  </thead>\n",
       "  <tbody>\n",
       "    <tr>\n",
       "      <th>0</th>\n",
       "      <td>0</td>\n",
       "      <td>3600.0</td>\n",
       "      <td>3600.0</td>\n",
       "      <td>3600.0</td>\n",
       "      <td>13.99</td>\n",
       "      <td>123.03</td>\n",
       "      <td>55000.0</td>\n",
       "      <td>36</td>\n",
       "      <td>C</td>\n",
       "      <td>10</td>\n",
       "      <td>2015</td>\n",
       "      <td>Individual</td>\n",
       "      <td>0</td>\n",
       "    </tr>\n",
       "    <tr>\n",
       "      <th>1</th>\n",
       "      <td>1</td>\n",
       "      <td>24700.0</td>\n",
       "      <td>24700.0</td>\n",
       "      <td>24700.0</td>\n",
       "      <td>11.99</td>\n",
       "      <td>820.28</td>\n",
       "      <td>65000.0</td>\n",
       "      <td>36</td>\n",
       "      <td>C</td>\n",
       "      <td>10</td>\n",
       "      <td>2015</td>\n",
       "      <td>Individual</td>\n",
       "      <td>0</td>\n",
       "    </tr>\n",
       "    <tr>\n",
       "      <th>2</th>\n",
       "      <td>2</td>\n",
       "      <td>20000.0</td>\n",
       "      <td>20000.0</td>\n",
       "      <td>20000.0</td>\n",
       "      <td>10.78</td>\n",
       "      <td>432.66</td>\n",
       "      <td>63000.0</td>\n",
       "      <td>60</td>\n",
       "      <td>B</td>\n",
       "      <td>10</td>\n",
       "      <td>2015</td>\n",
       "      <td>Joint App</td>\n",
       "      <td>0</td>\n",
       "    </tr>\n",
       "    <tr>\n",
       "      <th>3</th>\n",
       "      <td>3</td>\n",
       "      <td>35000.0</td>\n",
       "      <td>35000.0</td>\n",
       "      <td>35000.0</td>\n",
       "      <td>14.85</td>\n",
       "      <td>829.90</td>\n",
       "      <td>110000.0</td>\n",
       "      <td>60</td>\n",
       "      <td>C</td>\n",
       "      <td>10</td>\n",
       "      <td>2015</td>\n",
       "      <td>Individual</td>\n",
       "      <td>0</td>\n",
       "    </tr>\n",
       "    <tr>\n",
       "      <th>4</th>\n",
       "      <td>4</td>\n",
       "      <td>10400.0</td>\n",
       "      <td>10400.0</td>\n",
       "      <td>10400.0</td>\n",
       "      <td>22.45</td>\n",
       "      <td>289.91</td>\n",
       "      <td>104433.0</td>\n",
       "      <td>60</td>\n",
       "      <td>F</td>\n",
       "      <td>3</td>\n",
       "      <td>2015</td>\n",
       "      <td>Individual</td>\n",
       "      <td>0</td>\n",
       "    </tr>\n",
       "  </tbody>\n",
       "</table>\n",
       "</div>"
      ],
      "text/plain": [
       "   Unnamed: 0  loan_amnt  funded_amnt  funded_amnt_inv  int_rate  installment  \\\n",
       "0           0     3600.0       3600.0           3600.0     13.99       123.03   \n",
       "1           1    24700.0      24700.0          24700.0     11.99       820.28   \n",
       "2           2    20000.0      20000.0          20000.0     10.78       432.66   \n",
       "3           3    35000.0      35000.0          35000.0     14.85       829.90   \n",
       "4           4    10400.0      10400.0          10400.0     22.45       289.91   \n",
       "\n",
       "   annual_inc  term grade  emp_length  issue_d application_type  loan_status  \n",
       "0     55000.0    36     C          10     2015       Individual            0  \n",
       "1     65000.0    36     C          10     2015       Individual            0  \n",
       "2     63000.0    60     B          10     2015        Joint App            0  \n",
       "3    110000.0    60     C          10     2015       Individual            0  \n",
       "4    104433.0    60     F           3     2015       Individual            0  "
      ]
     },
     "execution_count": 2,
     "metadata": {},
     "output_type": "execute_result"
    }
   ],
   "source": [
    "df_cs = pd.read_csv('Data/df_credit_scoring.csv')\n",
    "df_cs.head()"
   ]
  },
  {
   "cell_type": "code",
   "execution_count": 3,
   "metadata": {},
   "outputs": [
    {
     "data": {
      "text/html": [
       "<div>\n",
       "<style scoped>\n",
       "    .dataframe tbody tr th:only-of-type {\n",
       "        vertical-align: middle;\n",
       "    }\n",
       "\n",
       "    .dataframe tbody tr th {\n",
       "        vertical-align: top;\n",
       "    }\n",
       "\n",
       "    .dataframe thead th {\n",
       "        text-align: right;\n",
       "    }\n",
       "</style>\n",
       "<table border=\"1\" class=\"dataframe\">\n",
       "  <thead>\n",
       "    <tr style=\"text-align: right;\">\n",
       "      <th></th>\n",
       "      <th>loan_status</th>\n",
       "    </tr>\n",
       "  </thead>\n",
       "  <tbody>\n",
       "    <tr>\n",
       "      <th>0</th>\n",
       "      <td>0</td>\n",
       "    </tr>\n",
       "    <tr>\n",
       "      <th>1</th>\n",
       "      <td>0</td>\n",
       "    </tr>\n",
       "    <tr>\n",
       "      <th>2</th>\n",
       "      <td>0</td>\n",
       "    </tr>\n",
       "    <tr>\n",
       "      <th>3</th>\n",
       "      <td>0</td>\n",
       "    </tr>\n",
       "    <tr>\n",
       "      <th>4</th>\n",
       "      <td>0</td>\n",
       "    </tr>\n",
       "  </tbody>\n",
       "</table>\n",
       "</div>"
      ],
      "text/plain": [
       "   loan_status\n",
       "0            0\n",
       "1            0\n",
       "2            0\n",
       "3            0\n",
       "4            0"
      ]
     },
     "execution_count": 3,
     "metadata": {},
     "output_type": "execute_result"
    }
   ],
   "source": [
    "df_target = df_cs[['loan_status']]\n",
    "df_target.head()"
   ]
  },
  {
   "cell_type": "code",
   "execution_count": 4,
   "metadata": {},
   "outputs": [
    {
     "data": {
      "text/plain": [
       "loan_status\n",
       "0              1865547\n",
       "1               248210\n",
       "dtype: int64"
      ]
     },
     "execution_count": 4,
     "metadata": {},
     "output_type": "execute_result"
    }
   ],
   "source": [
    "df_target.value_counts()"
   ]
  },
  {
   "cell_type": "markdown",
   "metadata": {},
   "source": [
    "---"
   ]
  },
  {
   "cell_type": "markdown",
   "metadata": {},
   "source": [
    "__Data Preprocessing__"
   ]
  },
  {
   "cell_type": "markdown",
   "metadata": {},
   "source": [
    "> Numerical Data Isolation"
   ]
  },
  {
   "cell_type": "code",
   "execution_count": 5,
   "metadata": {},
   "outputs": [],
   "source": [
    "df_cs_num = df_cs.loc[:, ['loan_amnt','funded_amnt','funded_amnt_inv','int_rate','installment','annual_inc','emp_length','issue_d']]\n",
    "#df_cs_num.drop(columns=['Unnamed: 0', 'loan_status'], inplace=True)"
   ]
  },
  {
   "cell_type": "code",
   "execution_count": 6,
   "metadata": {},
   "outputs": [
    {
     "data": {
      "text/html": [
       "<div>\n",
       "<style scoped>\n",
       "    .dataframe tbody tr th:only-of-type {\n",
       "        vertical-align: middle;\n",
       "    }\n",
       "\n",
       "    .dataframe tbody tr th {\n",
       "        vertical-align: top;\n",
       "    }\n",
       "\n",
       "    .dataframe thead th {\n",
       "        text-align: right;\n",
       "    }\n",
       "</style>\n",
       "<table border=\"1\" class=\"dataframe\">\n",
       "  <thead>\n",
       "    <tr style=\"text-align: right;\">\n",
       "      <th></th>\n",
       "      <th>loan_amnt</th>\n",
       "      <th>funded_amnt</th>\n",
       "      <th>funded_amnt_inv</th>\n",
       "      <th>int_rate</th>\n",
       "      <th>installment</th>\n",
       "      <th>annual_inc</th>\n",
       "      <th>emp_length</th>\n",
       "      <th>issue_d</th>\n",
       "    </tr>\n",
       "  </thead>\n",
       "  <tbody>\n",
       "    <tr>\n",
       "      <th>0</th>\n",
       "      <td>3600.0</td>\n",
       "      <td>3600.0</td>\n",
       "      <td>3600.0</td>\n",
       "      <td>13.99</td>\n",
       "      <td>123.03</td>\n",
       "      <td>55000.0</td>\n",
       "      <td>10</td>\n",
       "      <td>2015</td>\n",
       "    </tr>\n",
       "    <tr>\n",
       "      <th>1</th>\n",
       "      <td>24700.0</td>\n",
       "      <td>24700.0</td>\n",
       "      <td>24700.0</td>\n",
       "      <td>11.99</td>\n",
       "      <td>820.28</td>\n",
       "      <td>65000.0</td>\n",
       "      <td>10</td>\n",
       "      <td>2015</td>\n",
       "    </tr>\n",
       "    <tr>\n",
       "      <th>2</th>\n",
       "      <td>20000.0</td>\n",
       "      <td>20000.0</td>\n",
       "      <td>20000.0</td>\n",
       "      <td>10.78</td>\n",
       "      <td>432.66</td>\n",
       "      <td>63000.0</td>\n",
       "      <td>10</td>\n",
       "      <td>2015</td>\n",
       "    </tr>\n",
       "    <tr>\n",
       "      <th>3</th>\n",
       "      <td>35000.0</td>\n",
       "      <td>35000.0</td>\n",
       "      <td>35000.0</td>\n",
       "      <td>14.85</td>\n",
       "      <td>829.90</td>\n",
       "      <td>110000.0</td>\n",
       "      <td>10</td>\n",
       "      <td>2015</td>\n",
       "    </tr>\n",
       "    <tr>\n",
       "      <th>4</th>\n",
       "      <td>10400.0</td>\n",
       "      <td>10400.0</td>\n",
       "      <td>10400.0</td>\n",
       "      <td>22.45</td>\n",
       "      <td>289.91</td>\n",
       "      <td>104433.0</td>\n",
       "      <td>3</td>\n",
       "      <td>2015</td>\n",
       "    </tr>\n",
       "  </tbody>\n",
       "</table>\n",
       "</div>"
      ],
      "text/plain": [
       "   loan_amnt  funded_amnt  funded_amnt_inv  int_rate  installment  annual_inc  \\\n",
       "0     3600.0       3600.0           3600.0     13.99       123.03     55000.0   \n",
       "1    24700.0      24700.0          24700.0     11.99       820.28     65000.0   \n",
       "2    20000.0      20000.0          20000.0     10.78       432.66     63000.0   \n",
       "3    35000.0      35000.0          35000.0     14.85       829.90    110000.0   \n",
       "4    10400.0      10400.0          10400.0     22.45       289.91    104433.0   \n",
       "\n",
       "   emp_length  issue_d  \n",
       "0          10     2015  \n",
       "1          10     2015  \n",
       "2          10     2015  \n",
       "3          10     2015  \n",
       "4           3     2015  "
      ]
     },
     "execution_count": 6,
     "metadata": {},
     "output_type": "execute_result"
    }
   ],
   "source": [
    "df_cs_num.head()"
   ]
  },
  {
   "cell_type": "markdown",
   "metadata": {},
   "source": [
    "> One-hot Categorical"
   ]
  },
  {
   "cell_type": "code",
   "execution_count": 7,
   "metadata": {},
   "outputs": [],
   "source": [
    "df_cs_cat = df_cs.drop(columns=df_cs_num.columns)"
   ]
  },
  {
   "cell_type": "code",
   "execution_count": 8,
   "metadata": {},
   "outputs": [],
   "source": [
    "df_cs_cat = df_cs_cat.drop(columns=['Unnamed: 0', 'loan_status'])"
   ]
  },
  {
   "cell_type": "code",
   "execution_count": 9,
   "metadata": {},
   "outputs": [
    {
     "data": {
      "text/html": [
       "<div>\n",
       "<style scoped>\n",
       "    .dataframe tbody tr th:only-of-type {\n",
       "        vertical-align: middle;\n",
       "    }\n",
       "\n",
       "    .dataframe tbody tr th {\n",
       "        vertical-align: top;\n",
       "    }\n",
       "\n",
       "    .dataframe thead th {\n",
       "        text-align: right;\n",
       "    }\n",
       "</style>\n",
       "<table border=\"1\" class=\"dataframe\">\n",
       "  <thead>\n",
       "    <tr style=\"text-align: right;\">\n",
       "      <th></th>\n",
       "      <th>term</th>\n",
       "      <th>grade</th>\n",
       "      <th>application_type</th>\n",
       "    </tr>\n",
       "  </thead>\n",
       "  <tbody>\n",
       "    <tr>\n",
       "      <th>0</th>\n",
       "      <td>36</td>\n",
       "      <td>C</td>\n",
       "      <td>Individual</td>\n",
       "    </tr>\n",
       "    <tr>\n",
       "      <th>1</th>\n",
       "      <td>36</td>\n",
       "      <td>C</td>\n",
       "      <td>Individual</td>\n",
       "    </tr>\n",
       "    <tr>\n",
       "      <th>2</th>\n",
       "      <td>60</td>\n",
       "      <td>B</td>\n",
       "      <td>Joint App</td>\n",
       "    </tr>\n",
       "    <tr>\n",
       "      <th>3</th>\n",
       "      <td>60</td>\n",
       "      <td>C</td>\n",
       "      <td>Individual</td>\n",
       "    </tr>\n",
       "    <tr>\n",
       "      <th>4</th>\n",
       "      <td>60</td>\n",
       "      <td>F</td>\n",
       "      <td>Individual</td>\n",
       "    </tr>\n",
       "  </tbody>\n",
       "</table>\n",
       "</div>"
      ],
      "text/plain": [
       "   term grade application_type\n",
       "0    36     C       Individual\n",
       "1    36     C       Individual\n",
       "2    60     B        Joint App\n",
       "3    60     C       Individual\n",
       "4    60     F       Individual"
      ]
     },
     "execution_count": 9,
     "metadata": {},
     "output_type": "execute_result"
    }
   ],
   "source": [
    "df_cs_cat.head()"
   ]
  },
  {
   "cell_type": "code",
   "execution_count": 10,
   "metadata": {},
   "outputs": [
    {
     "data": {
      "text/plain": [
       "<2113757x11 sparse matrix of type '<class 'numpy.float64'>'\n",
       "\twith 6341271 stored elements in Compressed Sparse Row format>"
      ]
     },
     "execution_count": 10,
     "metadata": {},
     "output_type": "execute_result"
    }
   ],
   "source": [
    "from sklearn.preprocessing import OneHotEncoder\n",
    "\n",
    "cat_encoder = OneHotEncoder()\n",
    "df_cs_cat_1hot = cat_encoder.fit_transform(df_cs_cat)\n",
    "df_cs_cat_1hot"
   ]
  },
  {
   "cell_type": "code",
   "execution_count": 11,
   "metadata": {},
   "outputs": [
    {
     "data": {
      "text/plain": [
       "array([[1., 0., 0., ..., 0., 1., 0.],\n",
       "       [1., 0., 0., ..., 0., 1., 0.],\n",
       "       [0., 1., 0., ..., 0., 0., 1.],\n",
       "       ...,\n",
       "       [0., 1., 0., ..., 0., 1., 0.],\n",
       "       [0., 1., 0., ..., 0., 1., 0.],\n",
       "       [0., 1., 0., ..., 0., 1., 0.]])"
      ]
     },
     "execution_count": 11,
     "metadata": {},
     "output_type": "execute_result"
    }
   ],
   "source": [
    "df_cs_cat_1hot.toarray()\n"
   ]
  },
  {
   "cell_type": "code",
   "execution_count": 12,
   "metadata": {},
   "outputs": [
    {
     "data": {
      "text/plain": [
       "[array([36, 60], dtype=int64),\n",
       " array(['A', 'B', 'C', 'D', 'E', 'F', 'G'], dtype=object),\n",
       " array(['Individual', 'Joint App'], dtype=object)]"
      ]
     },
     "execution_count": 12,
     "metadata": {},
     "output_type": "execute_result"
    }
   ],
   "source": [
    "cat_encoder.categories_"
   ]
  },
  {
   "cell_type": "markdown",
   "metadata": {},
   "source": [
    "---"
   ]
  },
  {
   "cell_type": "markdown",
   "metadata": {},
   "source": [
    "__Transformation__"
   ]
  },
  {
   "cell_type": "code",
   "execution_count": 13,
   "metadata": {},
   "outputs": [],
   "source": [
    "from sklearn.pipeline import make_pipeline\n",
    "from sklearn.preprocessing import StandardScaler\n",
    "\n",
    "num_pipeline = make_pipeline(StandardScaler())"
   ]
  },
  {
   "cell_type": "code",
   "execution_count": 14,
   "metadata": {},
   "outputs": [],
   "source": [
    "df_cs_num_tr = num_pipeline.fit_transform(df_cs_num)"
   ]
  },
  {
   "cell_type": "code",
   "execution_count": 15,
   "metadata": {},
   "outputs": [],
   "source": [
    "from collections import Counter\n",
    "\n",
    "def draw_histograms(df, variables, n_rows, n_cols):\n",
    "    fig=plt.figure()\n",
    "    for i, var_name in enumerate(variables):\n",
    "        ax=fig.add_subplot(n_rows,n_cols,i+1)\n",
    "        try:\n",
    "            df[var_name].hist(bins=40,ax=ax,color = 'green',alpha=0.5, figsize = (15, 24))\n",
    "        except:\n",
    "            cnt = Counter(df[var_name])\n",
    "            cnt.hist(bins=40,ax=ax,color = 'red',alpha=0.5, figsize = (15, 24))\n",
    "        ax.set_title(var_name, fontsize = 10)\n",
    "        ax.tick_params(axis = 'both', which = 'major', labelsize = 8)\n",
    "        ax.tick_params(axis = 'both', which = 'minor', labelsize = 8)\n",
    "        ax.set_xlabel('')\n",
    "    fig.tight_layout(rect = [0, 0.03, 1, 0.95])  # Improves appearance a bit.\n",
    "    plt.show()"
   ]
  },
  {
   "cell_type": "code",
   "execution_count": 16,
   "metadata": {},
   "outputs": [
    {
     "data": {
      "image/png": "[encoded data removed]",
      "text/plain": [
       "<Figure size 1080x1728 with 8 Axes>"
      ]
     },
     "metadata": {},
     "output_type": "display_data"
    }
   ],
   "source": [
    "draw_histograms(df_cs_num, df_cs_num.columns, 5, 3)"
   ]
  },
  {
   "cell_type": "markdown",
   "metadata": {},
   "source": [
    "---"
   ]
  },
  {
   "cell_type": "markdown",
   "metadata": {},
   "source": [
    "__Data Splitting__"
   ]
  },
  {
   "cell_type": "code",
   "execution_count": 17,
   "metadata": {},
   "outputs": [
    {
     "data": {
      "text/plain": [
       "array([[1., 0., 0., ..., 0., 1., 0.],\n",
       "       [1., 0., 0., ..., 0., 1., 0.],\n",
       "       [0., 1., 0., ..., 0., 0., 1.],\n",
       "       ...,\n",
       "       [0., 1., 0., ..., 0., 1., 0.],\n",
       "       [0., 1., 0., ..., 0., 1., 0.],\n",
       "       [0., 1., 0., ..., 0., 1., 0.]])"
      ]
     },
     "execution_count": 17,
     "metadata": {},
     "output_type": "execute_result"
    }
   ],
   "source": [
    "df_cs_cat_1hot_ = df_cs_cat_1hot.toarray()\n",
    "df_cs_cat_1hot_"
   ]
  },
  {
   "cell_type": "code",
   "execution_count": 18,
   "metadata": {},
   "outputs": [],
   "source": [
    "dfc1hot = pd.DataFrame(df_cs_cat_1hot_, columns=['36','60','A','B','C','D','E','F','G','Individual','Join App'])\n",
    "dfcsnum = pd.DataFrame(df_cs_num_tr, columns=['loan_amnt','funded_amnt','funded_amnt_inv','int_rate','installment','annual_inc','emp_length','issue_d'])"
   ]
  },
  {
   "cell_type": "code",
   "execution_count": 19,
   "metadata": {},
   "outputs": [
    {
     "data": {
      "text/html": [
       "<div>\n",
       "<style scoped>\n",
       "    .dataframe tbody tr th:only-of-type {\n",
       "        vertical-align: middle;\n",
       "    }\n",
       "\n",
       "    .dataframe tbody tr th {\n",
       "        vertical-align: top;\n",
       "    }\n",
       "\n",
       "    .dataframe thead th {\n",
       "        text-align: right;\n",
       "    }\n",
       "</style>\n",
       "<table border=\"1\" class=\"dataframe\">\n",
       "  <thead>\n",
       "    <tr style=\"text-align: right;\">\n",
       "      <th></th>\n",
       "      <th>loan_amnt</th>\n",
       "      <th>funded_amnt</th>\n",
       "      <th>funded_amnt_inv</th>\n",
       "      <th>int_rate</th>\n",
       "      <th>installment</th>\n",
       "      <th>annual_inc</th>\n",
       "      <th>emp_length</th>\n",
       "      <th>issue_d</th>\n",
       "      <th>36</th>\n",
       "      <th>60</th>\n",
       "      <th>A</th>\n",
       "      <th>B</th>\n",
       "      <th>C</th>\n",
       "      <th>D</th>\n",
       "      <th>E</th>\n",
       "      <th>F</th>\n",
       "      <th>G</th>\n",
       "      <th>Individual</th>\n",
       "      <th>Join App</th>\n",
       "    </tr>\n",
       "  </thead>\n",
       "  <tbody>\n",
       "    <tr>\n",
       "      <th>0</th>\n",
       "      <td>-1.263434</td>\n",
       "      <td>-1.263079</td>\n",
       "      <td>-1.260386</td>\n",
       "      <td>0.187326</td>\n",
       "      <td>-1.223737</td>\n",
       "      <td>-0.216708</td>\n",
       "      <td>1.093657</td>\n",
       "      <td>-0.461017</td>\n",
       "      <td>1.0</td>\n",
       "      <td>0.0</td>\n",
       "      <td>0.0</td>\n",
       "      <td>0.0</td>\n",
       "      <td>1.0</td>\n",
       "      <td>0.0</td>\n",
       "      <td>0.0</td>\n",
       "      <td>0.0</td>\n",
       "      <td>0.0</td>\n",
       "      <td>1.0</td>\n",
       "      <td>0.0</td>\n",
       "    </tr>\n",
       "    <tr>\n",
       "      <th>1</th>\n",
       "      <td>1.024748</td>\n",
       "      <td>1.025548</td>\n",
       "      <td>1.027103</td>\n",
       "      <td>-0.226887</td>\n",
       "      <td>1.376674</td>\n",
       "      <td>-0.129895</td>\n",
       "      <td>1.093657</td>\n",
       "      <td>-0.461017</td>\n",
       "      <td>1.0</td>\n",
       "      <td>0.0</td>\n",
       "      <td>0.0</td>\n",
       "      <td>0.0</td>\n",
       "      <td>1.0</td>\n",
       "      <td>0.0</td>\n",
       "      <td>0.0</td>\n",
       "      <td>0.0</td>\n",
       "      <td>0.0</td>\n",
       "      <td>1.0</td>\n",
       "      <td>0.0</td>\n",
       "    </tr>\n",
       "    <tr>\n",
       "      <th>2</th>\n",
       "      <td>0.515058</td>\n",
       "      <td>0.515759</td>\n",
       "      <td>0.517568</td>\n",
       "      <td>-0.477486</td>\n",
       "      <td>-0.068964</td>\n",
       "      <td>-0.147258</td>\n",
       "      <td>1.093657</td>\n",
       "      <td>-0.461017</td>\n",
       "      <td>0.0</td>\n",
       "      <td>1.0</td>\n",
       "      <td>0.0</td>\n",
       "      <td>1.0</td>\n",
       "      <td>0.0</td>\n",
       "      <td>0.0</td>\n",
       "      <td>0.0</td>\n",
       "      <td>0.0</td>\n",
       "      <td>0.0</td>\n",
       "      <td>0.0</td>\n",
       "      <td>1.0</td>\n",
       "    </tr>\n",
       "    <tr>\n",
       "      <th>3</th>\n",
       "      <td>2.141727</td>\n",
       "      <td>2.142745</td>\n",
       "      <td>2.143745</td>\n",
       "      <td>0.365438</td>\n",
       "      <td>1.412552</td>\n",
       "      <td>0.260763</td>\n",
       "      <td>1.093657</td>\n",
       "      <td>-0.461017</td>\n",
       "      <td>0.0</td>\n",
       "      <td>1.0</td>\n",
       "      <td>0.0</td>\n",
       "      <td>0.0</td>\n",
       "      <td>1.0</td>\n",
       "      <td>0.0</td>\n",
       "      <td>0.0</td>\n",
       "      <td>0.0</td>\n",
       "      <td>0.0</td>\n",
       "      <td>1.0</td>\n",
       "      <td>0.0</td>\n",
       "    </tr>\n",
       "    <tr>\n",
       "      <th>4</th>\n",
       "      <td>-0.526010</td>\n",
       "      <td>-0.525512</td>\n",
       "      <td>-0.523185</td>\n",
       "      <td>1.939449</td>\n",
       "      <td>-0.601354</td>\n",
       "      <td>0.212434</td>\n",
       "      <td>-0.787959</td>\n",
       "      <td>-0.461017</td>\n",
       "      <td>0.0</td>\n",
       "      <td>1.0</td>\n",
       "      <td>0.0</td>\n",
       "      <td>0.0</td>\n",
       "      <td>0.0</td>\n",
       "      <td>0.0</td>\n",
       "      <td>0.0</td>\n",
       "      <td>1.0</td>\n",
       "      <td>0.0</td>\n",
       "      <td>1.0</td>\n",
       "      <td>0.0</td>\n",
       "    </tr>\n",
       "  </tbody>\n",
       "</table>\n",
       "</div>"
      ],
      "text/plain": [
       "   loan_amnt  funded_amnt  funded_amnt_inv  int_rate  installment  annual_inc  \\\n",
       "0  -1.263434    -1.263079        -1.260386  0.187326    -1.223737   -0.216708   \n",
       "1   1.024748     1.025548         1.027103 -0.226887     1.376674   -0.129895   \n",
       "2   0.515058     0.515759         0.517568 -0.477486    -0.068964   -0.147258   \n",
       "3   2.141727     2.142745         2.143745  0.365438     1.412552    0.260763   \n",
       "4  -0.526010    -0.525512        -0.523185  1.939449    -0.601354    0.212434   \n",
       "\n",
       "   emp_length   issue_d   36   60    A    B    C    D    E    F    G  \\\n",
       "0    1.093657 -0.461017  1.0  0.0  0.0  0.0  1.0  0.0  0.0  0.0  0.0   \n",
       "1    1.093657 -0.461017  1.0  0.0  0.0  0.0  1.0  0.0  0.0  0.0  0.0   \n",
       "2    1.093657 -0.461017  0.0  1.0  0.0  1.0  0.0  0.0  0.0  0.0  0.0   \n",
       "3    1.093657 -0.461017  0.0  1.0  0.0  0.0  1.0  0.0  0.0  0.0  0.0   \n",
       "4   -0.787959 -0.461017  0.0  1.0  0.0  0.0  0.0  0.0  0.0  1.0  0.0   \n",
       "\n",
       "   Individual  Join App  \n",
       "0         1.0       0.0  \n",
       "1         1.0       0.0  \n",
       "2         0.0       1.0  \n",
       "3         1.0       0.0  \n",
       "4         1.0       0.0  "
      ]
     },
     "execution_count": 19,
     "metadata": {},
     "output_type": "execute_result"
    }
   ],
   "source": [
    "df_cs_all_tr = pd.concat((dfcsnum, dfc1hot), axis=1)\n",
    "df_cs_all_tr.head()"
   ]
  },
  {
   "cell_type": "code",
   "execution_count": 20,
   "metadata": {},
   "outputs": [],
   "source": [
    "from sklearn.model_selection import  StratifiedShuffleSplit\n",
    "\n",
    "split = StratifiedShuffleSplit(n_splits=1, test_size=0.2, random_state=42)\n",
    "\n",
    "for train_index, test_index in split.split(pd.concat((df_cs_all_tr, df_target), axis=1), df_target):\n",
    " strat_train_set = pd.concat((df_cs_all_tr, df_target), axis=1).loc[train_index]\n",
    " strat_test_set = pd.concat((df_cs_all_tr, df_target), axis=1).loc[test_index]\n"
   ]
  },
  {
   "cell_type": "code",
   "execution_count": 21,
   "metadata": {},
   "outputs": [
    {
     "data": {
      "text/html": [
       "<div>\n",
       "<style scoped>\n",
       "    .dataframe tbody tr th:only-of-type {\n",
       "        vertical-align: middle;\n",
       "    }\n",
       "\n",
       "    .dataframe tbody tr th {\n",
       "        vertical-align: top;\n",
       "    }\n",
       "\n",
       "    .dataframe thead th {\n",
       "        text-align: right;\n",
       "    }\n",
       "</style>\n",
       "<table border=\"1\" class=\"dataframe\">\n",
       "  <thead>\n",
       "    <tr style=\"text-align: right;\">\n",
       "      <th></th>\n",
       "      <th>loan_amnt</th>\n",
       "      <th>funded_amnt</th>\n",
       "      <th>funded_amnt_inv</th>\n",
       "      <th>int_rate</th>\n",
       "      <th>installment</th>\n",
       "      <th>annual_inc</th>\n",
       "      <th>emp_length</th>\n",
       "      <th>issue_d</th>\n",
       "      <th>36</th>\n",
       "      <th>60</th>\n",
       "      <th>A</th>\n",
       "      <th>B</th>\n",
       "      <th>C</th>\n",
       "      <th>D</th>\n",
       "      <th>E</th>\n",
       "      <th>F</th>\n",
       "      <th>G</th>\n",
       "      <th>Individual</th>\n",
       "      <th>Join App</th>\n",
       "      <th>loan_status</th>\n",
       "    </tr>\n",
       "  </thead>\n",
       "  <tbody>\n",
       "    <tr>\n",
       "      <th>939541</th>\n",
       "      <td>-0.027165</td>\n",
       "      <td>-0.026570</td>\n",
       "      <td>-0.024491</td>\n",
       "      <td>1.334697</td>\n",
       "      <td>0.383091</td>\n",
       "      <td>-0.352753</td>\n",
       "      <td>1.093657</td>\n",
       "      <td>0.094008</td>\n",
       "      <td>1.0</td>\n",
       "      <td>0.0</td>\n",
       "      <td>0.0</td>\n",
       "      <td>0.0</td>\n",
       "      <td>0.0</td>\n",
       "      <td>1.0</td>\n",
       "      <td>0.0</td>\n",
       "      <td>0.0</td>\n",
       "      <td>0.0</td>\n",
       "      <td>1.0</td>\n",
       "      <td>0.0</td>\n",
       "      <td>0</td>\n",
       "    </tr>\n",
       "    <tr>\n",
       "      <th>1640889</th>\n",
       "      <td>-0.894722</td>\n",
       "      <td>-0.894296</td>\n",
       "      <td>-0.891785</td>\n",
       "      <td>0.653316</td>\n",
       "      <td>-0.761649</td>\n",
       "      <td>-0.129895</td>\n",
       "      <td>-0.519157</td>\n",
       "      <td>-1.571068</td>\n",
       "      <td>1.0</td>\n",
       "      <td>0.0</td>\n",
       "      <td>0.0</td>\n",
       "      <td>0.0</td>\n",
       "      <td>1.0</td>\n",
       "      <td>0.0</td>\n",
       "      <td>0.0</td>\n",
       "      <td>0.0</td>\n",
       "      <td>0.0</td>\n",
       "      <td>1.0</td>\n",
       "      <td>0.0</td>\n",
       "      <td>0</td>\n",
       "    </tr>\n",
       "    <tr>\n",
       "      <th>217609</th>\n",
       "      <td>-0.352499</td>\n",
       "      <td>-0.351967</td>\n",
       "      <td>-0.349727</td>\n",
       "      <td>-0.641101</td>\n",
       "      <td>-0.238695</td>\n",
       "      <td>-0.329565</td>\n",
       "      <td>-1.056761</td>\n",
       "      <td>-0.461017</td>\n",
       "      <td>1.0</td>\n",
       "      <td>0.0</td>\n",
       "      <td>0.0</td>\n",
       "      <td>1.0</td>\n",
       "      <td>0.0</td>\n",
       "      <td>0.0</td>\n",
       "      <td>0.0</td>\n",
       "      <td>0.0</td>\n",
       "      <td>0.0</td>\n",
       "      <td>1.0</td>\n",
       "      <td>0.0</td>\n",
       "      <td>0</td>\n",
       "    </tr>\n",
       "    <tr>\n",
       "      <th>1551225</th>\n",
       "      <td>-1.111611</td>\n",
       "      <td>-1.111227</td>\n",
       "      <td>-1.108609</td>\n",
       "      <td>0.083773</td>\n",
       "      <td>-1.049829</td>\n",
       "      <td>-0.260114</td>\n",
       "      <td>1.093657</td>\n",
       "      <td>0.649034</td>\n",
       "      <td>1.0</td>\n",
       "      <td>0.0</td>\n",
       "      <td>0.0</td>\n",
       "      <td>0.0</td>\n",
       "      <td>1.0</td>\n",
       "      <td>0.0</td>\n",
       "      <td>0.0</td>\n",
       "      <td>0.0</td>\n",
       "      <td>0.0</td>\n",
       "      <td>0.0</td>\n",
       "      <td>1.0</td>\n",
       "      <td>0</td>\n",
       "    </tr>\n",
       "    <tr>\n",
       "      <th>795476</th>\n",
       "      <td>-0.027165</td>\n",
       "      <td>-0.026570</td>\n",
       "      <td>-0.024491</td>\n",
       "      <td>0.400646</td>\n",
       "      <td>-0.351103</td>\n",
       "      <td>-0.329565</td>\n",
       "      <td>0.287250</td>\n",
       "      <td>1.204059</td>\n",
       "      <td>0.0</td>\n",
       "      <td>1.0</td>\n",
       "      <td>0.0</td>\n",
       "      <td>0.0</td>\n",
       "      <td>1.0</td>\n",
       "      <td>0.0</td>\n",
       "      <td>0.0</td>\n",
       "      <td>0.0</td>\n",
       "      <td>0.0</td>\n",
       "      <td>1.0</td>\n",
       "      <td>0.0</td>\n",
       "      <td>0</td>\n",
       "    </tr>\n",
       "  </tbody>\n",
       "</table>\n",
       "</div>"
      ],
      "text/plain": [
       "         loan_amnt  funded_amnt  funded_amnt_inv  int_rate  installment  \\\n",
       "939541   -0.027165    -0.026570        -0.024491  1.334697     0.383091   \n",
       "1640889  -0.894722    -0.894296        -0.891785  0.653316    -0.761649   \n",
       "217609   -0.352499    -0.351967        -0.349727 -0.641101    -0.238695   \n",
       "1551225  -1.111611    -1.111227        -1.108609  0.083773    -1.049829   \n",
       "795476   -0.027165    -0.026570        -0.024491  0.400646    -0.351103   \n",
       "\n",
       "         annual_inc  emp_length   issue_d   36   60    A    B    C    D    E  \\\n",
       "939541    -0.352753    1.093657  0.094008  1.0  0.0  0.0  0.0  0.0  1.0  0.0   \n",
       "1640889   -0.129895   -0.519157 -1.571068  1.0  0.0  0.0  0.0  1.0  0.0  0.0   \n",
       "217609    -0.329565   -1.056761 -0.461017  1.0  0.0  0.0  1.0  0.0  0.0  0.0   \n",
       "1551225   -0.260114    1.093657  0.649034  1.0  0.0  0.0  0.0  1.0  0.0  0.0   \n",
       "795476    -0.329565    0.287250  1.204059  0.0  1.0  0.0  0.0  1.0  0.0  0.0   \n",
       "\n",
       "           F    G  Individual  Join App  loan_status  \n",
       "939541   0.0  0.0         1.0       0.0            0  \n",
       "1640889  0.0  0.0         1.0       0.0            0  \n",
       "217609   0.0  0.0         1.0       0.0            0  \n",
       "1551225  0.0  0.0         0.0       1.0            0  \n",
       "795476   0.0  0.0         1.0       0.0            0  "
      ]
     },
     "execution_count": 21,
     "metadata": {},
     "output_type": "execute_result"
    }
   ],
   "source": [
    "strat_train_set.head()"
   ]
  },
  {
   "cell_type": "code",
   "execution_count": 22,
   "metadata": {},
   "outputs": [
    {
     "data": {
      "text/plain": [
       "0    1492437\n",
       "1     198568\n",
       "Name: loan_status, dtype: int64"
      ]
     },
     "execution_count": 22,
     "metadata": {},
     "output_type": "execute_result"
    }
   ],
   "source": [
    "strat_train_set.loc[:, 'loan_status'].value_counts()"
   ]
  },
  {
   "cell_type": "code",
   "execution_count": 23,
   "metadata": {},
   "outputs": [
    {
     "data": {
      "text/plain": [
       "0    373110\n",
       "1     49642\n",
       "Name: loan_status, dtype: int64"
      ]
     },
     "execution_count": 23,
     "metadata": {},
     "output_type": "execute_result"
    }
   ],
   "source": [
    "strat_test_set.loc[:, 'loan_status'].value_counts()"
   ]
  },
  {
   "cell_type": "markdown",
   "metadata": {},
   "source": [
    "__Conditioning & ID__"
   ]
  },
  {
   "cell_type": "code",
   "execution_count": 24,
   "metadata": {},
   "outputs": [
    {
     "data": {
      "text/html": [
       "<div>\n",
       "<style scoped>\n",
       "    .dataframe tbody tr th:only-of-type {\n",
       "        vertical-align: middle;\n",
       "    }\n",
       "\n",
       "    .dataframe tbody tr th {\n",
       "        vertical-align: top;\n",
       "    }\n",
       "\n",
       "    .dataframe thead th {\n",
       "        text-align: right;\n",
       "    }\n",
       "</style>\n",
       "<table border=\"1\" class=\"dataframe\">\n",
       "  <thead>\n",
       "    <tr style=\"text-align: right;\">\n",
       "      <th></th>\n",
       "      <th>loan_amnt</th>\n",
       "      <th>funded_amnt</th>\n",
       "      <th>funded_amnt_inv</th>\n",
       "      <th>int_rate</th>\n",
       "      <th>installment</th>\n",
       "      <th>annual_inc</th>\n",
       "      <th>emp_length</th>\n",
       "      <th>issue_d</th>\n",
       "      <th>36</th>\n",
       "      <th>60</th>\n",
       "      <th>A</th>\n",
       "      <th>B</th>\n",
       "      <th>C</th>\n",
       "      <th>D</th>\n",
       "      <th>E</th>\n",
       "      <th>F</th>\n",
       "      <th>G</th>\n",
       "      <th>Individual</th>\n",
       "      <th>Join App</th>\n",
       "      <th>loan_status</th>\n",
       "    </tr>\n",
       "  </thead>\n",
       "  <tbody>\n",
       "    <tr>\n",
       "      <th>939541</th>\n",
       "      <td>-0.027165</td>\n",
       "      <td>-0.026570</td>\n",
       "      <td>-0.024491</td>\n",
       "      <td>1.334697</td>\n",
       "      <td>0.383091</td>\n",
       "      <td>-0.352753</td>\n",
       "      <td>1.093657</td>\n",
       "      <td>0.094008</td>\n",
       "      <td>1.0</td>\n",
       "      <td>0.0</td>\n",
       "      <td>0.0</td>\n",
       "      <td>0.0</td>\n",
       "      <td>0.0</td>\n",
       "      <td>1.0</td>\n",
       "      <td>0.0</td>\n",
       "      <td>0.0</td>\n",
       "      <td>0.0</td>\n",
       "      <td>1.0</td>\n",
       "      <td>0.0</td>\n",
       "      <td>0</td>\n",
       "    </tr>\n",
       "    <tr>\n",
       "      <th>1640889</th>\n",
       "      <td>-0.894722</td>\n",
       "      <td>-0.894296</td>\n",
       "      <td>-0.891785</td>\n",
       "      <td>0.653316</td>\n",
       "      <td>-0.761649</td>\n",
       "      <td>-0.129895</td>\n",
       "      <td>-0.519157</td>\n",
       "      <td>-1.571068</td>\n",
       "      <td>1.0</td>\n",
       "      <td>0.0</td>\n",
       "      <td>0.0</td>\n",
       "      <td>0.0</td>\n",
       "      <td>1.0</td>\n",
       "      <td>0.0</td>\n",
       "      <td>0.0</td>\n",
       "      <td>0.0</td>\n",
       "      <td>0.0</td>\n",
       "      <td>1.0</td>\n",
       "      <td>0.0</td>\n",
       "      <td>0</td>\n",
       "    </tr>\n",
       "    <tr>\n",
       "      <th>217609</th>\n",
       "      <td>-0.352499</td>\n",
       "      <td>-0.351967</td>\n",
       "      <td>-0.349727</td>\n",
       "      <td>-0.641101</td>\n",
       "      <td>-0.238695</td>\n",
       "      <td>-0.329565</td>\n",
       "      <td>-1.056761</td>\n",
       "      <td>-0.461017</td>\n",
       "      <td>1.0</td>\n",
       "      <td>0.0</td>\n",
       "      <td>0.0</td>\n",
       "      <td>1.0</td>\n",
       "      <td>0.0</td>\n",
       "      <td>0.0</td>\n",
       "      <td>0.0</td>\n",
       "      <td>0.0</td>\n",
       "      <td>0.0</td>\n",
       "      <td>1.0</td>\n",
       "      <td>0.0</td>\n",
       "      <td>0</td>\n",
       "    </tr>\n",
       "    <tr>\n",
       "      <th>1551225</th>\n",
       "      <td>-1.111611</td>\n",
       "      <td>-1.111227</td>\n",
       "      <td>-1.108609</td>\n",
       "      <td>0.083773</td>\n",
       "      <td>-1.049829</td>\n",
       "      <td>-0.260114</td>\n",
       "      <td>1.093657</td>\n",
       "      <td>0.649034</td>\n",
       "      <td>1.0</td>\n",
       "      <td>0.0</td>\n",
       "      <td>0.0</td>\n",
       "      <td>0.0</td>\n",
       "      <td>1.0</td>\n",
       "      <td>0.0</td>\n",
       "      <td>0.0</td>\n",
       "      <td>0.0</td>\n",
       "      <td>0.0</td>\n",
       "      <td>0.0</td>\n",
       "      <td>1.0</td>\n",
       "      <td>0</td>\n",
       "    </tr>\n",
       "    <tr>\n",
       "      <th>795476</th>\n",
       "      <td>-0.027165</td>\n",
       "      <td>-0.026570</td>\n",
       "      <td>-0.024491</td>\n",
       "      <td>0.400646</td>\n",
       "      <td>-0.351103</td>\n",
       "      <td>-0.329565</td>\n",
       "      <td>0.287250</td>\n",
       "      <td>1.204059</td>\n",
       "      <td>0.0</td>\n",
       "      <td>1.0</td>\n",
       "      <td>0.0</td>\n",
       "      <td>0.0</td>\n",
       "      <td>1.0</td>\n",
       "      <td>0.0</td>\n",
       "      <td>0.0</td>\n",
       "      <td>0.0</td>\n",
       "      <td>0.0</td>\n",
       "      <td>1.0</td>\n",
       "      <td>0.0</td>\n",
       "      <td>0</td>\n",
       "    </tr>\n",
       "  </tbody>\n",
       "</table>\n",
       "</div>"
      ],
      "text/plain": [
       "         loan_amnt  funded_amnt  funded_amnt_inv  int_rate  installment  \\\n",
       "939541   -0.027165    -0.026570        -0.024491  1.334697     0.383091   \n",
       "1640889  -0.894722    -0.894296        -0.891785  0.653316    -0.761649   \n",
       "217609   -0.352499    -0.351967        -0.349727 -0.641101    -0.238695   \n",
       "1551225  -1.111611    -1.111227        -1.108609  0.083773    -1.049829   \n",
       "795476   -0.027165    -0.026570        -0.024491  0.400646    -0.351103   \n",
       "\n",
       "         annual_inc  emp_length   issue_d   36   60    A    B    C    D    E  \\\n",
       "939541    -0.352753    1.093657  0.094008  1.0  0.0  0.0  0.0  0.0  1.0  0.0   \n",
       "1640889   -0.129895   -0.519157 -1.571068  1.0  0.0  0.0  0.0  1.0  0.0  0.0   \n",
       "217609    -0.329565   -1.056761 -0.461017  1.0  0.0  0.0  1.0  0.0  0.0  0.0   \n",
       "1551225   -0.260114    1.093657  0.649034  1.0  0.0  0.0  0.0  1.0  0.0  0.0   \n",
       "795476    -0.329565    0.287250  1.204059  0.0  1.0  0.0  0.0  1.0  0.0  0.0   \n",
       "\n",
       "           F    G  Individual  Join App  loan_status  \n",
       "939541   0.0  0.0         1.0       0.0            0  \n",
       "1640889  0.0  0.0         1.0       0.0            0  \n",
       "217609   0.0  0.0         1.0       0.0            0  \n",
       "1551225  0.0  0.0         0.0       1.0            0  \n",
       "795476   0.0  0.0         1.0       0.0            0  "
      ]
     },
     "execution_count": 24,
     "metadata": {},
     "output_type": "execute_result"
    }
   ],
   "source": [
    "strat_train_set.head()"
   ]
  },
  {
   "cell_type": "markdown",
   "metadata": {},
   "source": [
    "> Generating Train & Val dataset for training model"
   ]
  },
  {
   "cell_type": "code",
   "execution_count": 25,
   "metadata": {},
   "outputs": [],
   "source": [
    "cs_train, cs_train_target = strat_train_set.iloc[:, 0:19], strat_train_set.iloc[:, 19]"
   ]
  },
  {
   "cell_type": "code",
   "execution_count": 26,
   "metadata": {},
   "outputs": [
    {
     "data": {
      "text/html": [
       "<div>\n",
       "<style scoped>\n",
       "    .dataframe tbody tr th:only-of-type {\n",
       "        vertical-align: middle;\n",
       "    }\n",
       "\n",
       "    .dataframe tbody tr th {\n",
       "        vertical-align: top;\n",
       "    }\n",
       "\n",
       "    .dataframe thead th {\n",
       "        text-align: right;\n",
       "    }\n",
       "</style>\n",
       "<table border=\"1\" class=\"dataframe\">\n",
       "  <thead>\n",
       "    <tr style=\"text-align: right;\">\n",
       "      <th></th>\n",
       "      <th>loan_amnt</th>\n",
       "      <th>funded_amnt</th>\n",
       "      <th>funded_amnt_inv</th>\n",
       "      <th>int_rate</th>\n",
       "      <th>installment</th>\n",
       "      <th>annual_inc</th>\n",
       "      <th>emp_length</th>\n",
       "      <th>issue_d</th>\n",
       "      <th>36</th>\n",
       "      <th>60</th>\n",
       "      <th>A</th>\n",
       "      <th>B</th>\n",
       "      <th>C</th>\n",
       "      <th>D</th>\n",
       "      <th>E</th>\n",
       "      <th>F</th>\n",
       "      <th>G</th>\n",
       "      <th>Individual</th>\n",
       "      <th>Join App</th>\n",
       "      <th>loan_status</th>\n",
       "    </tr>\n",
       "  </thead>\n",
       "  <tbody>\n",
       "    <tr>\n",
       "      <th>939541</th>\n",
       "      <td>-0.027165</td>\n",
       "      <td>-0.026570</td>\n",
       "      <td>-0.024491</td>\n",
       "      <td>1.334697</td>\n",
       "      <td>0.383091</td>\n",
       "      <td>-0.352753</td>\n",
       "      <td>1.093657</td>\n",
       "      <td>0.094008</td>\n",
       "      <td>1.0</td>\n",
       "      <td>0.0</td>\n",
       "      <td>0.0</td>\n",
       "      <td>0.0</td>\n",
       "      <td>0.0</td>\n",
       "      <td>1.0</td>\n",
       "      <td>0.0</td>\n",
       "      <td>0.0</td>\n",
       "      <td>0.0</td>\n",
       "      <td>1.0</td>\n",
       "      <td>0.0</td>\n",
       "      <td>0</td>\n",
       "    </tr>\n",
       "    <tr>\n",
       "      <th>1640889</th>\n",
       "      <td>-0.894722</td>\n",
       "      <td>-0.894296</td>\n",
       "      <td>-0.891785</td>\n",
       "      <td>0.653316</td>\n",
       "      <td>-0.761649</td>\n",
       "      <td>-0.129895</td>\n",
       "      <td>-0.519157</td>\n",
       "      <td>-1.571068</td>\n",
       "      <td>1.0</td>\n",
       "      <td>0.0</td>\n",
       "      <td>0.0</td>\n",
       "      <td>0.0</td>\n",
       "      <td>1.0</td>\n",
       "      <td>0.0</td>\n",
       "      <td>0.0</td>\n",
       "      <td>0.0</td>\n",
       "      <td>0.0</td>\n",
       "      <td>1.0</td>\n",
       "      <td>0.0</td>\n",
       "      <td>0</td>\n",
       "    </tr>\n",
       "    <tr>\n",
       "      <th>217609</th>\n",
       "      <td>-0.352499</td>\n",
       "      <td>-0.351967</td>\n",
       "      <td>-0.349727</td>\n",
       "      <td>-0.641101</td>\n",
       "      <td>-0.238695</td>\n",
       "      <td>-0.329565</td>\n",
       "      <td>-1.056761</td>\n",
       "      <td>-0.461017</td>\n",
       "      <td>1.0</td>\n",
       "      <td>0.0</td>\n",
       "      <td>0.0</td>\n",
       "      <td>1.0</td>\n",
       "      <td>0.0</td>\n",
       "      <td>0.0</td>\n",
       "      <td>0.0</td>\n",
       "      <td>0.0</td>\n",
       "      <td>0.0</td>\n",
       "      <td>1.0</td>\n",
       "      <td>0.0</td>\n",
       "      <td>0</td>\n",
       "    </tr>\n",
       "    <tr>\n",
       "      <th>1551225</th>\n",
       "      <td>-1.111611</td>\n",
       "      <td>-1.111227</td>\n",
       "      <td>-1.108609</td>\n",
       "      <td>0.083773</td>\n",
       "      <td>-1.049829</td>\n",
       "      <td>-0.260114</td>\n",
       "      <td>1.093657</td>\n",
       "      <td>0.649034</td>\n",
       "      <td>1.0</td>\n",
       "      <td>0.0</td>\n",
       "      <td>0.0</td>\n",
       "      <td>0.0</td>\n",
       "      <td>1.0</td>\n",
       "      <td>0.0</td>\n",
       "      <td>0.0</td>\n",
       "      <td>0.0</td>\n",
       "      <td>0.0</td>\n",
       "      <td>0.0</td>\n",
       "      <td>1.0</td>\n",
       "      <td>0</td>\n",
       "    </tr>\n",
       "    <tr>\n",
       "      <th>795476</th>\n",
       "      <td>-0.027165</td>\n",
       "      <td>-0.026570</td>\n",
       "      <td>-0.024491</td>\n",
       "      <td>0.400646</td>\n",
       "      <td>-0.351103</td>\n",
       "      <td>-0.329565</td>\n",
       "      <td>0.287250</td>\n",
       "      <td>1.204059</td>\n",
       "      <td>0.0</td>\n",
       "      <td>1.0</td>\n",
       "      <td>0.0</td>\n",
       "      <td>0.0</td>\n",
       "      <td>1.0</td>\n",
       "      <td>0.0</td>\n",
       "      <td>0.0</td>\n",
       "      <td>0.0</td>\n",
       "      <td>0.0</td>\n",
       "      <td>1.0</td>\n",
       "      <td>0.0</td>\n",
       "      <td>0</td>\n",
       "    </tr>\n",
       "  </tbody>\n",
       "</table>\n",
       "</div>"
      ],
      "text/plain": [
       "         loan_amnt  funded_amnt  funded_amnt_inv  int_rate  installment  \\\n",
       "939541   -0.027165    -0.026570        -0.024491  1.334697     0.383091   \n",
       "1640889  -0.894722    -0.894296        -0.891785  0.653316    -0.761649   \n",
       "217609   -0.352499    -0.351967        -0.349727 -0.641101    -0.238695   \n",
       "1551225  -1.111611    -1.111227        -1.108609  0.083773    -1.049829   \n",
       "795476   -0.027165    -0.026570        -0.024491  0.400646    -0.351103   \n",
       "\n",
       "         annual_inc  emp_length   issue_d   36   60    A    B    C    D    E  \\\n",
       "939541    -0.352753    1.093657  0.094008  1.0  0.0  0.0  0.0  0.0  1.0  0.0   \n",
       "1640889   -0.129895   -0.519157 -1.571068  1.0  0.0  0.0  0.0  1.0  0.0  0.0   \n",
       "217609    -0.329565   -1.056761 -0.461017  1.0  0.0  0.0  1.0  0.0  0.0  0.0   \n",
       "1551225   -0.260114    1.093657  0.649034  1.0  0.0  0.0  0.0  1.0  0.0  0.0   \n",
       "795476    -0.329565    0.287250  1.204059  0.0  1.0  0.0  0.0  1.0  0.0  0.0   \n",
       "\n",
       "           F    G  Individual  Join App  loan_status  \n",
       "939541   0.0  0.0         1.0       0.0            0  \n",
       "1640889  0.0  0.0         1.0       0.0            0  \n",
       "217609   0.0  0.0         1.0       0.0            0  \n",
       "1551225  0.0  0.0         0.0       1.0            0  \n",
       "795476   0.0  0.0         1.0       0.0            0  "
      ]
     },
     "execution_count": 26,
     "metadata": {},
     "output_type": "execute_result"
    }
   ],
   "source": [
    "train_target = pd.concat((cs_train, pd.DataFrame(cs_train_target)), axis=1)\n",
    "train_target.head()"
   ]
  },
  {
   "cell_type": "markdown",
   "metadata": {},
   "source": [
    "> Checking Class Imbalance"
   ]
  },
  {
   "cell_type": "code",
   "execution_count": 27,
   "metadata": {},
   "outputs": [],
   "source": [
    "bool_pos = (cs_train_target == 1)\n",
    "neg_pos = (cs_train_target == 0)"
   ]
  },
  {
   "cell_type": "code",
   "execution_count": 28,
   "metadata": {},
   "outputs": [
    {
     "data": {
      "image/png": "[encoded data removed]",
      "text/plain": [
       "<Figure size 432x432 with 3 Axes>"
      ]
     },
     "metadata": {},
     "output_type": "display_data"
    },
    {
     "data": {
      "image/png": "[encoded data removed]",
      "text/plain": [
       "<Figure size 432x432 with 3 Axes>"
      ]
     },
     "metadata": {},
     "output_type": "display_data"
    }
   ],
   "source": [
    "pos_df = pd.DataFrame(cs_train[bool_pos])\n",
    "neg_df = pd.DataFrame(cs_train[neg_pos])\n",
    "\n",
    "sns.jointplot(x=pos_df.loan_amnt, y=pos_df.installment,\n",
    "              kind='hex', xlim=(-5,5), ylim=(-5,5))\n",
    "plt.suptitle(\"Positive distribution\")\n",
    "\n",
    "sns.jointplot(x=neg_df.loan_amnt, y=neg_df.installment,\n",
    "              kind='hex', xlim=(-5,5), ylim=(-5,5))\n",
    "_ = plt.suptitle(\"Negative distribution\")"
   ]
  },
  {
   "cell_type": "markdown",
   "metadata": {},
   "source": [
    "> Test Data, should be left untouched"
   ]
  },
  {
   "cell_type": "code",
   "execution_count": 29,
   "metadata": {},
   "outputs": [],
   "source": [
    "cs_test, cs_test_target = strat_test_set.iloc[:, 0:19], strat_test_set.iloc[:, 19]"
   ]
  },
  {
   "cell_type": "markdown",
   "metadata": {},
   "source": [
    "---"
   ]
  },
  {
   "cell_type": "markdown",
   "metadata": {},
   "source": [
    "__ANN in Progress__"
   ]
  },
  {
   "cell_type": "code",
   "execution_count": 30,
   "metadata": {},
   "outputs": [],
   "source": [
    "from sklearn.metrics import accuracy_score\n",
    "from sklearn.metrics import precision_score\n",
    "import tensorflow as tf"
   ]
  },
  {
   "cell_type": "code",
   "execution_count": 31,
   "metadata": {},
   "outputs": [],
   "source": [
    "metrics = [\n",
    "      tf.keras.metrics.TruePositives(name='tp'),\n",
    "      tf.keras.metrics.FalsePositives(name='fp'),\n",
    "      tf.keras.metrics.TrueNegatives(name='tn'),\n",
    "      tf.keras.metrics.FalseNegatives(name='fn'), \n",
    "      tf.keras.metrics.BinaryAccuracy(name='accuracy'),\n",
    "      tf.keras.metrics.Precision(name='precision'),\n",
    "      tf.keras.metrics.Recall(name='recall'),\n",
    "      tf.keras.metrics.AUC(name='auc'),\n",
    "      tf.keras.metrics.AUC(name='prc', curve='PR'),]"
   ]
  },
  {
   "cell_type": "code",
   "execution_count": 32,
   "metadata": {},
   "outputs": [
    {
     "name": "stdout",
     "output_type": "stream",
     "text": [
      "Weight for class 0: 0.57\n",
      "Weight for class 1: 4.26\n"
     ]
    }
   ],
   "source": [
    "weight_for_0 = (1 / len(neg_df)) * ((len(neg_df) + len(pos_df)) / 2.0)\n",
    "weight_for_1 = (1 / len(pos_df)) * ((len(neg_df) + len(pos_df)) / 2.0)\n",
    "\n",
    "class_weight = {0: weight_for_0, 1: weight_for_1}\n",
    "\n",
    "print('Weight for class 0: {:.2f}'.format(weight_for_0))\n",
    "print('Weight for class 1: {:.2f}'.format(weight_for_1))"
   ]
  },
  {
   "cell_type": "code",
   "execution_count": 33,
   "metadata": {},
   "outputs": [],
   "source": [
    "def run_model(mdl):\n",
    "    n_epochs = 20\n",
    "    n_class = 2\n",
    "    batch_size = 1000\n",
    "\n",
    "    mdl.compile(\n",
    "        optimizer='adam',\n",
    "        loss='sparse_categorical_crossentropy',\n",
    "        metrics=['accuracy'],\n",
    "        #loss_weights=cs_train_target,\n",
    "\n",
    "    )\n",
    "    history = mdl.fit(\n",
    "        cs_train, cs_train_target,\n",
    "        epochs=n_epochs,\n",
    "        batch_size=1000,\n",
    "        verbose=1,\n",
    "        class_weight=class_weight\n",
    "    )\n",
    "    y_pred = mdl.predict(cs_test)\n",
    "    \n",
    "    return y_pred, history, mdl"
   ]
  },
  {
   "cell_type": "code",
   "execution_count": 34,
   "metadata": {},
   "outputs": [],
   "source": [
    "def run_model(mdl):\n",
    "    n_epochs = 25\n",
    "    n_class = 2\n",
    "    batch_size = 1000\n",
    "\n",
    "    mdl.compile(\n",
    "        optimizer='adam',\n",
    "        loss='sparse_categorical_crossentropy',\n",
    "        metrics=['accuracy'],\n",
    "        #loss_weights=cs_train_target,\n",
    "\n",
    "    )\n",
    "    history = mdl.fit(\n",
    "        cs_train, cs_train_target,\n",
    "        epochs=n_epochs,\n",
    "        batch_size=1000,\n",
    "        verbose=1,\n",
    "        class_weight=class_weight,\n",
    "        callbacks=[callback]\n",
    "    )\n",
    "    y_pred = mdl.predict(cs_test)\n",
    "    \n",
    "    return y_pred, history, mdl"
   ]
  },
  {
   "cell_type": "code",
   "execution_count": 35,
   "metadata": {},
   "outputs": [],
   "source": [
    "callback = tf.keras.callbacks.EarlyStopping(monitor='loss', patience=1)"
   ]
  },
  {
   "cell_type": "code",
   "execution_count": 36,
   "metadata": {},
   "outputs": [],
   "source": [
    "mdl_1 = tf.keras.Sequential([\n",
    "            tf.keras.layers.Dense(7, input_shape=(19,), activation='relu', use_bias=True, bias_initializer='zeros'),\n",
    "            tf.keras.layers.Dense(2, activation='softmax')])"
   ]
  },
  {
   "cell_type": "code",
   "execution_count": 37,
   "metadata": {},
   "outputs": [],
   "source": [
    "mdl_2 = tf.keras.Sequential([\n",
    "            tf.keras.layers.Dense(30, input_shape=(19,), activation='relu', use_bias=True, bias_initializer='zeros'),\n",
    "            tf.keras.layers.Dense(700, activation='relu', use_bias=True, bias_initializer='zeros'),\n",
    "            tf.keras.layers.Dense(50, activation='relu', use_bias=True, bias_initializer='zeros'),\n",
    "            tf.keras.layers.Dense(1000, activation='relu', use_bias=True, bias_initializer='zeros'),\n",
    "            tf.keras.layers.Dense(10, activation='relu', use_bias=True, bias_initializer='zeros'),\n",
    "            tf.keras.layers.Dense(2, activation='softmax')])"
   ]
  },
  {
   "cell_type": "code",
   "execution_count": 38,
   "metadata": {},
   "outputs": [
    {
     "name": "stdout",
     "output_type": "stream",
     "text": [
      "Epoch 1/25\n",
      "1692/1692 [==============================] - 3s 2ms/step - loss: 0.6093 - accuracy: 0.6545\n",
      "Epoch 2/25\n",
      "1692/1692 [==============================] - 3s 2ms/step - loss: 0.5845 - accuracy: 0.6567\n",
      "Epoch 3/25\n",
      "1692/1692 [==============================] - 3s 1ms/step - loss: 0.5832 - accuracy: 0.6550\n",
      "Epoch 4/25\n",
      "1692/1692 [==============================] - 3s 2ms/step - loss: 0.5828 - accuracy: 0.6555\n",
      "Epoch 5/25\n",
      "1692/1692 [==============================] - 3s 2ms/step - loss: 0.5825 - accuracy: 0.6537\n",
      "Epoch 6/25\n",
      "1692/1692 [==============================] - 3s 2ms/step - loss: 0.5823 - accuracy: 0.6541\n",
      "Epoch 7/25\n",
      "1692/1692 [==============================] - 3s 2ms/step - loss: 0.5823 - accuracy: 0.6530\n",
      "Epoch 8/25\n",
      "1692/1692 [==============================] - 3s 2ms/step - loss: 0.5822 - accuracy: 0.6524\n",
      "Epoch 9/25\n",
      "1692/1692 [==============================] - 3s 2ms/step - loss: 0.5822 - accuracy: 0.6512 ETA: 0s - loss: 0.5824 - accuracy: 0.\n",
      "Epoch 10/25\n",
      "1692/1692 [==============================] - 3s 2ms/step - loss: 0.5822 - accuracy: 0.6515: 0s - loss:\n",
      "Epoch 11/25\n",
      "1692/1692 [==============================] - 3s 2ms/step - loss: 0.5821 - accuracy: 0.6523\n",
      "Epoch 12/25\n",
      "1692/1692 [==============================] - 2s 1ms/step - loss: 0.5821 - accuracy: 0.6518\n",
      "Epoch 13/25\n",
      "1692/1692 [==============================] - 2s 1ms/step - loss: 0.5821 - accuracy: 0.6523: 0s - loss: 0.5820 - accuracy: 0. - ETA: 0s - loss: 0.582\n",
      "Epoch 14/25\n",
      "1692/1692 [==============================] - 3s 2ms/step - loss: 0.5819 - accuracy: 0.6503\n",
      "Epoch 15/25\n",
      "1692/1692 [==============================] - 3s 2ms/step - loss: 0.5815 - accuracy: 0.6500\n",
      "Epoch 16/25\n",
      "1692/1692 [==============================] - 3s 2ms/step - loss: 0.5814 - accuracy: 0.6488\n",
      "Epoch 17/25\n",
      "1692/1692 [==============================] - 3s 2ms/step - loss: 0.5812 - accuracy: 0.6486\n",
      "Epoch 18/25\n",
      "1692/1692 [==============================] - 3s 2ms/step - loss: 0.5812 - accuracy: 0.6481\n",
      "Epoch 19/25\n",
      "1692/1692 [==============================] - 3s 2ms/step - loss: 0.5812 - accuracy: 0.6478: 0s -\n",
      "Epoch 20/25\n",
      "1692/1692 [==============================] - 3s 2ms/step - loss: 0.5812 - accuracy: 0.6469: 0s - l\n"
     ]
    }
   ],
   "source": [
    "tf.debugging.set_log_device_placement(True)\n",
    "\n",
    "try:\n",
    "    with tf.device('/device:GPU:0'):\n",
    "        \n",
    "        y_pred, history, mdl = run_model(mdl_1)\n",
    "\n",
    "except RuntimeError as e:\n",
    "    print(e)"
   ]
  },
  {
   "cell_type": "code",
   "execution_count": 39,
   "metadata": {},
   "outputs": [
    {
     "name": "stdout",
     "output_type": "stream",
     "text": [
      "Acccuracy Score: 0.6492861062750738\n"
     ]
    }
   ],
   "source": [
    "print(f'Acccuracy Score:', accuracy_score(cs_test_target, y_pred.argmax(axis=1)))"
   ]
  },
  {
   "cell_type": "code",
   "execution_count": 40,
   "metadata": {},
   "outputs": [
    {
     "data": {
      "image/png": "[encoded data removed]",
      "text/plain": [
       "<Figure size 864x504 with 2 Axes>"
      ]
     },
     "metadata": {},
     "output_type": "display_data"
    }
   ],
   "source": [
    "from sklearn.metrics import confusion_matrix\n",
    "\n",
    "y_prediction = y_pred.argmax(axis=1)\n",
    "\n",
    "cm = confusion_matrix(cs_test_target, y_prediction)\n",
    "\n",
    "sns.heatmap(cm, annot=True, cmap='icefire');"
   ]
  },
  {
   "cell_type": "code",
   "execution_count": 41,
   "metadata": {},
   "outputs": [
    {
     "name": "stdout",
     "output_type": "stream",
     "text": [
      "Precission Score: 0.21241740489534552\n",
      "Recall Score: 0.7337133878570565\n"
     ]
    }
   ],
   "source": [
    "from sklearn.metrics import precision_score, recall_score\n",
    "\n",
    "print(f'Precission Score:', precision_score(cs_test_target, y_prediction))\n",
    "print(f'Recall Score:', recall_score(cs_test_target, y_prediction))"
   ]
  },
  {
   "cell_type": "markdown",
   "metadata": {},
   "source": [
    "---"
   ]
  },
  {
   "cell_type": "markdown",
   "metadata": {},
   "source": [
    "__EDA of Error Analysis__"
   ]
  },
  {
   "cell_type": "code",
   "execution_count": 42,
   "metadata": {},
   "outputs": [
    {
     "data": {
      "text/plain": [
       "1363591    0\n",
       "847685     0\n",
       "17734      1\n",
       "1103990    0\n",
       "1736031    0\n",
       "          ..\n",
       "885183     0\n",
       "1531838    0\n",
       "2068288    0\n",
       "1998323    0\n",
       "1277379    0\n",
       "Name: loan_status, Length: 422752, dtype: int64"
      ]
     },
     "execution_count": 42,
     "metadata": {},
     "output_type": "execute_result"
    }
   ],
   "source": [
    "np.reshape(cs_test_target,((-1,)))"
   ]
  },
  {
   "cell_type": "code",
   "execution_count": 43,
   "metadata": {},
   "outputs": [
    {
     "data": {
      "text/html": [
       "<div>\n",
       "<style scoped>\n",
       "    .dataframe tbody tr th:only-of-type {\n",
       "        vertical-align: middle;\n",
       "    }\n",
       "\n",
       "    .dataframe tbody tr th {\n",
       "        vertical-align: top;\n",
       "    }\n",
       "\n",
       "    .dataframe thead th {\n",
       "        text-align: right;\n",
       "    }\n",
       "</style>\n",
       "<table border=\"1\" class=\"dataframe\">\n",
       "  <thead>\n",
       "    <tr style=\"text-align: right;\">\n",
       "      <th></th>\n",
       "      <th>1363591</th>\n",
       "      <th>847685</th>\n",
       "      <th>17734</th>\n",
       "      <th>1103990</th>\n",
       "      <th>1736031</th>\n",
       "      <th>266969</th>\n",
       "      <th>1810036</th>\n",
       "      <th>1465281</th>\n",
       "      <th>681097</th>\n",
       "      <th>609345</th>\n",
       "      <th>...</th>\n",
       "      <th>9662</th>\n",
       "      <th>1304513</th>\n",
       "      <th>2069782</th>\n",
       "      <th>1318780</th>\n",
       "      <th>700580</th>\n",
       "      <th>885183</th>\n",
       "      <th>1531838</th>\n",
       "      <th>2068288</th>\n",
       "      <th>1998323</th>\n",
       "      <th>1277379</th>\n",
       "    </tr>\n",
       "  </thead>\n",
       "  <tbody>\n",
       "    <tr>\n",
       "      <th>loan_status</th>\n",
       "      <td>0.0</td>\n",
       "      <td>0.0</td>\n",
       "      <td>1.000000</td>\n",
       "      <td>0.0</td>\n",
       "      <td>0.0</td>\n",
       "      <td>0.0000</td>\n",
       "      <td>0.0</td>\n",
       "      <td>0.0</td>\n",
       "      <td>0.000000</td>\n",
       "      <td>0.000000</td>\n",
       "      <td>...</td>\n",
       "      <td>1.000000</td>\n",
       "      <td>0.0</td>\n",
       "      <td>0.0</td>\n",
       "      <td>0.0</td>\n",
       "      <td>0.000000</td>\n",
       "      <td>0.0</td>\n",
       "      <td>0.0</td>\n",
       "      <td>0.0</td>\n",
       "      <td>0.0</td>\n",
       "      <td>0.0</td>\n",
       "    </tr>\n",
       "    <tr>\n",
       "      <th>Unnamed 0</th>\n",
       "      <td>NaN</td>\n",
       "      <td>NaN</td>\n",
       "      <td>0.361425</td>\n",
       "      <td>NaN</td>\n",
       "      <td>NaN</td>\n",
       "      <td>0.3926</td>\n",
       "      <td>NaN</td>\n",
       "      <td>NaN</td>\n",
       "      <td>0.752207</td>\n",
       "      <td>0.029484</td>\n",
       "      <td>...</td>\n",
       "      <td>0.538915</td>\n",
       "      <td>NaN</td>\n",
       "      <td>NaN</td>\n",
       "      <td>NaN</td>\n",
       "      <td>0.696115</td>\n",
       "      <td>NaN</td>\n",
       "      <td>NaN</td>\n",
       "      <td>NaN</td>\n",
       "      <td>NaN</td>\n",
       "      <td>NaN</td>\n",
       "    </tr>\n",
       "  </tbody>\n",
       "</table>\n",
       "<p>2 rows × 422752 columns</p>\n",
       "</div>"
      ],
      "text/plain": [
       "             1363591  847685    17734    1103990  1736031  266969   1810036  \\\n",
       "loan_status      0.0      0.0  1.000000      0.0      0.0   0.0000      0.0   \n",
       "Unnamed 0        NaN      NaN  0.361425      NaN      NaN   0.3926      NaN   \n",
       "\n",
       "             1465281   681097    609345   ...   9662     1304513  2069782  \\\n",
       "loan_status      0.0  0.000000  0.000000  ...  1.000000      0.0      0.0   \n",
       "Unnamed 0        NaN  0.752207  0.029484  ...  0.538915      NaN      NaN   \n",
       "\n",
       "             1318780   700580   885183   1531838  2068288  1998323  1277379  \n",
       "loan_status      0.0  0.000000      0.0      0.0      0.0      0.0      0.0  \n",
       "Unnamed 0        NaN  0.696115      NaN      NaN      NaN      NaN      NaN  \n",
       "\n",
       "[2 rows x 422752 columns]"
      ]
     },
     "execution_count": 43,
     "metadata": {},
     "output_type": "execute_result"
    }
   ],
   "source": [
    "pd.DataFrame((np.reshape(cs_test_target,(-1,)),np.reshape(y_pred,(-1,))))"
   ]
  },
  {
   "cell_type": "markdown",
   "metadata": {},
   "source": [
    "---"
   ]
  },
  {
   "cell_type": "code",
   "execution_count": 44,
   "metadata": {},
   "outputs": [
    {
     "name": "stdout",
     "output_type": "stream",
     "text": [
      "Num GPUs Available:  0\n"
     ]
    }
   ],
   "source": [
    "print(\"Num GPUs Available: \", len(tf.config.list_physical_devices('GPU')))"
   ]
  },
  {
   "cell_type": "code",
   "execution_count": 45,
   "metadata": {},
   "outputs": [
    {
     "name": "stdout",
     "output_type": "stream",
     "text": [
      "Please install GPU version of TF\n"
     ]
    }
   ],
   "source": [
    "if tf.test.gpu_device_name():\n",
    "    print('Default GPU Device: {}'.format(tf.test.gpu_device_name()))\n",
    "else:\n",
    "    print(\"Please install GPU version of TF\")"
   ]
  }
 ],
 "metadata": {
  "interpreter": {
   "hash": "019eda8f1f0c5f4f74935f08731ca7abbbd7b03c58dd42d66f216087a4b921d5"
  },
  "kernelspec": {
   "display_name": "Python 3.7.11 ('tensor_gpu')",
   "language": "python",
   "name": "python3"
  },
  "language_info": {
   "codemirror_mode": {
    "name": "ipython",
    "version": 3
   },
   "file_extension": ".py",
   "mimetype": "text/x-python",
   "name": "python",
   "nbconvert_exporter": "python",
   "pygments_lexer": "ipython3",
   "version": "3.8.12"
  },
  "orig_nbformat": 4
 },
 "nbformat": 4,
 "nbformat_minor": 2
}
